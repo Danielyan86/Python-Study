{
 "cells": [
  {
   "cell_type": "markdown",
   "id": "6c0f0d1d",
   "metadata": {},
   "source": [
    "# itertools - 创建迭代器以实现高效循环的函数\n",
    "- 这个模块实现了一些迭代器构件，其灵感来自 APL、Haskell 和 SML 的结构。每个迭代器都以适合 Python 的形式进行了重构。\n",
    "\n",
    "- 该模块将一组核心的快速、高效的内存工具标准化，这些工具本身或结合起来都很有用。它们共同组成了一个 \"迭代器代数\"，使得在纯 Python 中简洁有效地构建专门的工具成为可能。\n",
    "\n",
    "- 例如，SML提供了一个制表工具：tabulate(f)，它产生一个序列f(0), f(1), .... 同样的效果可以在Python中通过结合map()和count()形成map(f, count())来实现。\n",
    "\n",
    "- 这些工具和它们内置的对应工具也能很好地与运算符模块中的高速函数一起工作。例如，乘法运算符可以被映射到两个向量上，形成一个高效的点乘：sum(map(operator.mul, vector1, vector2))。\n",
    "# 类型\n",
    "- 无限迭代器\n",
    "- 终止于最短输入序列的迭代器\n",
    "- 组合式迭代器\n"
   ]
  },
  {
   "cell_type": "markdown",
   "id": "8038769c",
   "metadata": {},
   "source": [
    "下面的模块函数都构造并返回迭代器。有些函数提供了无限长的流，所以它们只能被截断流的函数或循环所访问。"
   ]
  },
  {
   "cell_type": "markdown",
   "id": "db2666f9",
   "metadata": {},
   "source": [
    "# itertools.accumulate(iterable[, func, *, initial=None])\n",
    "- 生成一个迭代器，返回累积的总和，或者其他二进制函数的累积结果（通过可选的func参数指定）。\n",
    "\n",
    "- 如果func被提供，它应该是一个两个参数的函数。输入迭代器的元素可以是任何可以被接受为func参数的类型。(例如，在默认的加法运算中，元素可以是任何可加类型，包括小数或分数）。)\n",
    "\n",
    "- 通常情况下，输出的元素数量与输入的可迭代元素相匹配。然而，如果提供了关键字参数initial，累积就会以初始值为先导，这样输出的元素就会比输入的iterable多一个。"
   ]
  },
  {
   "cell_type": "markdown",
   "id": "898fa0c1",
   "metadata": {},
   "source": [
    "## operator\n",
    "operator模块输出了一组与 Python 本身的操作符相对应的有效函数。例如，operator.add(x, y) 相当于表达式 x+y。许多函数名称是那些用于特殊方法的名称，没有双下划线。为了向后兼容，许多都有一个保留双下划线的变体。为了清晰起见，不含双下划线的变体是首选。\n",
    "\n",
    "这些函数分为几类，分别执行对象比较、逻辑运算、数学运算和序列运算。\n",
    "\n",
    "对象比较函数对所有对象都有用，并以它们支持的丰富的比较运算符命名。\n",
    "\n",
    "operator.lt(a, b)\n",
    "operator.le(a, b)\n",
    "operator.eq(a, b)\n",
    "operator.ne(a, b)\n",
    "operator.ge(a, b)\n",
    "operator.gt(a, b)"
   ]
  },
  {
   "cell_type": "code",
   "execution_count": 6,
   "id": "92dcd384",
   "metadata": {},
   "outputs": [],
   "source": [
    "# 相当于自定义函数实现\n",
    "import operator\n",
    "def accumulate(iterable, func=operator.add, *, initial=None):\n",
    "    '''\n",
    "    Args:\n",
    "        iterable: 可迭代对象\n",
    "        func: 函数对象\n",
    "        initial: 初始值\n",
    "\n",
    "    Returns:\n",
    "    \n",
    "    '''\n",
    "    'Return running totals'\n",
    "    # accumulate([1,2,3,4,5]) --> 1 3 6 10 15\n",
    "    # accumulate([1,2,3,4,5], initial=100) --> 100 101 103 106 110 115\n",
    "    # accumulate([1,2,3,4,5], operator.mul) --> 1 2 6 24 120\n",
    "    it = iter(iterable)\n",
    "    total = initial\n",
    "    if initial is None:\n",
    "        try:\n",
    "            total = next(it)\n",
    "        except StopIteration:\n",
    "            return\n",
    "    yield total\n",
    "    for element in it:\n",
    "        total = func(total, element)\n",
    "        yield total"
   ]
  },
  {
   "cell_type": "code",
   "execution_count": 4,
   "id": "94ed37f7",
   "metadata": {},
   "outputs": [
    {
     "data": {
      "text/plain": [
       "[3, 12, 72, 144, 144, 1296, 0, 0, 0, 0]"
      ]
     },
     "execution_count": 4,
     "metadata": {},
     "output_type": "execute_result"
    }
   ],
   "source": [
    "data = [3, 4, 6, 2, 1, 9, 0, 7, 5, 8]\n",
    "list(accumulate(data, operator.mul))     # 累乘\n"
   ]
  },
  {
   "cell_type": "code",
   "execution_count": 7,
   "id": "02401e97",
   "metadata": {},
   "outputs": [
    {
     "data": {
      "text/plain": [
       "[3, 4, 6, 6, 6, 9, 9, 9, 9, 9]"
      ]
     },
     "execution_count": 7,
     "metadata": {},
     "output_type": "execute_result"
    }
   ],
   "source": [
    "list(accumulate(data, max))         # 球最大值"
   ]
  },
  {
   "cell_type": "code",
   "execution_count": null,
   "id": "af2e622a",
   "metadata": {},
   "outputs": [],
   "source": [
    "itertools.chain(*iterables)∥。\n",
    "制作一个迭代器，从第一个迭代器中返回元素，直到它被耗尽，然后继续到下一个迭代器，直到所有的迭代器都是e"
   ]
  },
  {
   "cell_type": "markdown",
   "id": "8f065ab2",
   "metadata": {},
   "source": [
    "# itertools.chain(*iterables)\n",
    "生成一个迭代器，从第一个迭代器返回元素，直到它被耗尽，然后继续到下一个迭代器，直到所有的迭代器被耗尽。用于将连续的序列合成一个单一的序列。大致相当于。"
   ]
  },
  {
   "cell_type": "code",
   "execution_count": 15,
   "id": "8eb9dbbc",
   "metadata": {},
   "outputs": [],
   "source": [
    "def chain(*iterables):\n",
    "    # chain('ABC', 'DEF') --> A B C D E F\n",
    "    for it in iterables:\n",
    "        for element in it:\n",
    "            yield element"
   ]
  },
  {
   "cell_type": "code",
   "execution_count": 16,
   "id": "8c6019eb",
   "metadata": {},
   "outputs": [
    {
     "data": {
      "text/plain": [
       "['A', 'B', 'C', 'D', 'E', 'F']"
      ]
     },
     "execution_count": 16,
     "metadata": {},
     "output_type": "execute_result"
    }
   ],
   "source": [
    "list(chain('ABC', 'DEF') )"
   ]
  },
  {
   "cell_type": "markdown",
   "id": "c3dd3244",
   "metadata": {},
   "source": [
    "## classmethod chain.from_iterable(iterable)\n",
    "chain()的备用构造函数。从一个可迭代的参数中获取链式输入，该参数被懒散地评估。\n",
    "大致相当于。"
   ]
  },
  {
   "cell_type": "code",
   "execution_count": 19,
   "id": "477089b0",
   "metadata": {},
   "outputs": [],
   "source": [
    "def from_iterable(iterables):\n",
    "    # chain.from_iterable(['ABC', 'DEF']) --> A B C D E F\n",
    "    for it in iterables:\n",
    "        for element in it:\n",
    "            yield element"
   ]
  },
  {
   "cell_type": "code",
   "execution_count": 23,
   "id": "8a51a3f3",
   "metadata": {},
   "outputs": [
    {
     "data": {
      "text/plain": [
       "['A', 'B', 'C', 'D', 'E', 'F']"
      ]
     },
     "execution_count": 23,
     "metadata": {},
     "output_type": "execute_result"
    }
   ],
   "source": [
    "list(from_iterable(['ABC','DEF']))"
   ]
  },
  {
   "cell_type": "markdown",
   "id": "337d9783",
   "metadata": {},
   "source": [
    "# itertools.combinations(iterable, r)\n",
    "- 从输入的迭代器中返回长度为r的元素子序列。\n",
    "- 元组里面的组合是按照输入迭代器的顺序以词典排序的方式创建的。因此，如果输入的迭代器是排序的，组合图元将以排序的顺序产生。\n",
    "\n",
    "- 元素的唯一性是基于它们的位置，而不是基于它们的值。因此，如果输入元素是唯一的，每个组合中就不会有重复的值。\n",
    "\n",
    "大致相当于。"
   ]
  },
  {
   "cell_type": "code",
   "execution_count": 8,
   "id": "063c4f97",
   "metadata": {},
   "outputs": [],
   "source": [
    "def combinations(iterable, r):\n",
    "    # combinations('ABCD', 2) --> AB AC AD BC BD CD\n",
    "    # combinations(range(4), 3) --> 012 013 023 123\n",
    "    pool = tuple(iterable)\n",
    "    n = len(pool)\n",
    "    if r > n:\n",
    "        return\n",
    "    indices = list(range(r))\n",
    "    yield tuple(pool[i] for i in indices)\n",
    "    while True:\n",
    "        for i in reversed(range(r)):\n",
    "            if indices[i] != i + n - r:\n",
    "                break\n",
    "        else:\n",
    "            return\n",
    "        indices[i] += 1\n",
    "        for j in range(i+1, r):\n",
    "            indices[j] = indices[j-1] + 1\n",
    "        yield tuple(pool[i] for i in indices)"
   ]
  },
  {
   "cell_type": "code",
   "execution_count": 11,
   "id": "549994e6",
   "metadata": {},
   "outputs": [
    {
     "data": {
      "text/plain": [
       "[('A', 'B'), ('A', 'C'), ('A', 'D'), ('B', 'C'), ('B', 'D'), ('C', 'D')]"
      ]
     },
     "execution_count": 11,
     "metadata": {},
     "output_type": "execute_result"
    }
   ],
   "source": [
    "list(combinations('ABCD', 2))"
   ]
  },
  {
   "cell_type": "code",
   "execution_count": 13,
   "id": "2c203f6d",
   "metadata": {},
   "outputs": [
    {
     "data": {
      "text/plain": [
       "[(0, 1, 2), (0, 1, 3), (0, 2, 3), (1, 2, 3)]"
      ]
     },
     "execution_count": 13,
     "metadata": {},
     "output_type": "execute_result"
    }
   ],
   "source": [
    "list(combinations(range(4), 3))"
   ]
  },
  {
   "cell_type": "code",
   "execution_count": 36,
   "id": "00e05962",
   "metadata": {},
   "outputs": [
    {
     "data": {
      "text/plain": [
       "[('A', 'B'), ('A', 'C'), ('B', 'C')]"
      ]
     },
     "execution_count": 36,
     "metadata": {},
     "output_type": "execute_result"
    }
   ],
   "source": [
    "list(combinations(\"ABC\",2))"
   ]
  },
  {
   "cell_type": "markdown",
   "id": "71d9531b",
   "metadata": {},
   "source": [
    "# itertools.combinations_with_replacement(iterable, r)\n",
    "- 从输入的迭代器中返回r长度的元素子序列，允许单个元素重复一次以上。\n",
    "\n",
    "- 组合图元是按照输入迭代器的顺序以词汇学排序的方式发出的。因此，如果输入的迭代器是排序的，组合图元将以排序的顺序产生。\n",
    "\n",
    "- 元素的唯一性是基于它们的位置，而不是基于它们的值。因此，如果输入元素是唯一的，生成的组合也将是唯一的。"
   ]
  },
  {
   "cell_type": "code",
   "execution_count": 25,
   "id": "aff15889",
   "metadata": {},
   "outputs": [],
   "source": [
    "def combinations_with_replacement(iterable, r):\n",
    "    # combinations_with_replacement('ABC', 2) --> AA AB AC BB BC CC\n",
    "    pool = tuple(iterable)\n",
    "    n = len(pool)\n",
    "    if not n and r:\n",
    "        return\n",
    "    indices = [0] * r\n",
    "    yield tuple(pool[i] for i in indices)\n",
    "    while True:\n",
    "        for i in reversed(range(r)):\n",
    "            if indices[i] != n - 1:\n",
    "                break\n",
    "        else:\n",
    "            return\n",
    "        indices[i:] = [indices[i] + 1] * (r - i)\n",
    "        yield tuple(pool[i] for i in indices)"
   ]
  },
  {
   "cell_type": "code",
   "execution_count": 33,
   "id": "6c59b17a",
   "metadata": {},
   "outputs": [
    {
     "data": {
      "text/plain": [
       "[('A', 'A'),\n",
       " ('A', 'A'),\n",
       " ('A', 'B'),\n",
       " ('A', 'B'),\n",
       " ('A', 'A'),\n",
       " ('A', 'B'),\n",
       " ('A', 'B'),\n",
       " ('B', 'B'),\n",
       " ('B', 'B'),\n",
       " ('B', 'B')]"
      ]
     },
     "execution_count": 33,
     "metadata": {},
     "output_type": "execute_result"
    }
   ],
   "source": [
    "list(combinations_with_replacement(\"AABB\",2))"
   ]
  },
  {
   "cell_type": "code",
   "execution_count": 35,
   "id": "444e58cd",
   "metadata": {},
   "outputs": [
    {
     "data": {
      "text/plain": [
       "[('A', 'A'), ('A', 'B'), ('A', 'C'), ('B', 'B'), ('B', 'C'), ('C', 'C')]"
      ]
     },
     "execution_count": 35,
     "metadata": {},
     "output_type": "execute_result"
    }
   ],
   "source": [
    "list(combinations_with_replacement(\"ABC\",2))"
   ]
  },
  {
   "cell_type": "markdown",
   "id": "17f5bd48",
   "metadata": {},
   "source": [
    "# itertools.compress(data, selectors)\n",
    "制作一个迭代器，从数据中过滤元素，只返回那些在选择器中有对应元素且评估为真的元素。当data或selectors的迭代器被用尽时停止。大致相当于。"
   ]
  },
  {
   "cell_type": "code",
   "execution_count": 39,
   "id": "04f7a307",
   "metadata": {},
   "outputs": [],
   "source": [
    "def compress(data, selectors):\n",
    "    # compress('ABCDEF', [1,0,1,0,1,1]) --> A C E F\n",
    "    return (d for d, s in zip(data, selectors) if s)"
   ]
  },
  {
   "cell_type": "code",
   "execution_count": 40,
   "id": "c1e85a2d",
   "metadata": {},
   "outputs": [
    {
     "data": {
      "text/plain": [
       "['A', 'C', 'E', 'F']"
      ]
     },
     "execution_count": 40,
     "metadata": {},
     "output_type": "execute_result"
    }
   ],
   "source": [
    "list(compress('ABCDEF',[1,0,1,0,1,1]))"
   ]
  },
  {
   "cell_type": "code",
   "execution_count": null,
   "id": "f0a82a56",
   "metadata": {},
   "outputs": [],
   "source": []
  },
  {
   "cell_type": "code",
   "execution_count": null,
   "id": "bf09dd69",
   "metadata": {},
   "outputs": [],
   "source": []
  },
  {
   "cell_type": "code",
   "execution_count": null,
   "id": "78ca26be",
   "metadata": {},
   "outputs": [],
   "source": []
  },
  {
   "cell_type": "code",
   "execution_count": null,
   "id": "528b5682",
   "metadata": {},
   "outputs": [],
   "source": []
  },
  {
   "cell_type": "code",
   "execution_count": null,
   "id": "d78bf0d4",
   "metadata": {},
   "outputs": [],
   "source": []
  },
  {
   "cell_type": "code",
   "execution_count": null,
   "id": "a20c0eb9",
   "metadata": {},
   "outputs": [],
   "source": []
  },
  {
   "cell_type": "code",
   "execution_count": null,
   "id": "7524fb03",
   "metadata": {},
   "outputs": [],
   "source": []
  }
 ],
 "metadata": {
  "kernelspec": {
   "display_name": "Python 3",
   "language": "python",
   "name": "python3"
  },
  "language_info": {
   "codemirror_mode": {
    "name": "ipython",
    "version": 3
   },
   "file_extension": ".py",
   "mimetype": "text/x-python",
   "name": "python",
   "nbconvert_exporter": "python",
   "pygments_lexer": "ipython3",
   "version": "3.8.8"
  }
 },
 "nbformat": 4,
 "nbformat_minor": 5
}
