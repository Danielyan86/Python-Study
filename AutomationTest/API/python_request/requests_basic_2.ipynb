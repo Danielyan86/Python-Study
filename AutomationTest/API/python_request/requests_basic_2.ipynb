{
  "cells": [
    {
      "cell_type": "markdown",
      "metadata": {},
      "source": [
        "## 返回状态码"
      ]
    },
    {
      "cell_type": "code",
      "execution_count": null,
      "metadata": {},
      "outputs": [],
      "source": [
        "import requests\n",
        "r = requests.get('https://httpbin.org/get')\n",
        "r.status_code"
      ]
    },
    {
      "cell_type": "markdown",
      "metadata": {},
      "source": [
        "requests还有一个等同的内建对象"
      ]
    },
    {
      "cell_type": "code",
      "execution_count": null,
      "metadata": {},
      "outputs": [],
      "source": [
        "r.status_code == requests.codes.ok"
      ]
    },
    {
      "cell_type": "markdown",
      "metadata": {},
      "source": [
        "## 返回headers"
      ]
    },
    {
      "cell_type": "code",
      "execution_count": null,
      "metadata": {},
      "outputs": [],
      "source": [
        "r.headers"
      ]
    },
    {
      "cell_type": "markdown",
      "metadata": {},
      "source": [
        "### headers是一个字典数据，可以获取指定字段值"
      ]
    },
    {
      "cell_type": "code",
      "execution_count": null,
      "metadata": {},
      "outputs": [],
      "source": [
        "r.headers.get('content-type')"
      ]
    },
    {
      "cell_type": "code",
      "execution_count": null,
      "metadata": {},
      "outputs": [],
      "source": [
        "r.headers['Content-Type']"
      ]
    },
    {
      "cell_type": "markdown",
      "metadata": {},
      "source": [
        "## 跳转和历史"
      ]
    },
    {
      "cell_type": "code",
      "execution_count": null,
      "metadata": {},
      "outputs": [],
      "source": [
        "r = requests.get('http://github.com/')\n",
        "r.history"
      ]
    },
    {
      "cell_type": "markdown",
      "metadata": {},
      "source": [
        "### 通过设置allow_redirects参数可以设置跳转，默认为false"
      ]
    },
    {
      "cell_type": "code",
      "execution_count": null,
      "metadata": {},
      "outputs": [],
      "source": [
        "r = requests.get('http://github.com/', allow_redirects=False)\n",
        "r.status_code"
      ]
    },
    {
      "cell_type": "markdown",
      "metadata": {},
      "source": [
        "## 超时"
      ]
    },
    {
      "cell_type": "markdown",
      "metadata": {},
      "source": [
        "### 通过设置timeouts可以设置超时时间，如果没有设置，默认不会超时"
      ]
    },
    {
      "cell_type": "code",
      "execution_count": null,
      "metadata": {},
      "outputs": [],
      "source": [
        " requests.get('https://github.com/', timeout=0.001)"
      ]
    }
  ],
  "metadata": {
    "kernelspec": {
      "display_name": "Python 3",
      "language": "python",
      "name": "python3"
    },
    "language_info": {
      "codemirror_mode": {
        "name": "ipython",
        "version": 3
      },
      "file_extension": ".py",
      "mimetype": "text/x-python",
      "name": "python",
      "nbconvert_exporter": "python",
      "pygments_lexer": "ipython3",
      "version": "3.7.2"
    }
  },
  "nbformat": 4,
  "nbformat_minor": 2
}
