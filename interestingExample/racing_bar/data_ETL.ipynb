{
  "cells": [
    {
      "cell_type": "code",
      "execution_count": null,
      "metadata": {},
      "outputs": [],
      "source": [
        "\n",
        "import bar_chart_race as bcr\n",
        "import pandas\n",
        "print(pandas.__version__)\n",
        "\n",
        "# bcr.load_dataset()\n",
        "df = pandas.read_csv(\"./data/WHO-COVID-19-global-data.csv\")\n",
        "# df.to_csv(\"./data/WHO-COVID-19-cleaned-data.csv\",index_label=False)\n",
        "df\n",
        "\n",
        "df = df[[\"Date_reported\", \"Country\", \"Cumulative_deaths\"]]\n",
        "df = df.iloc[::5, :]  # 每隔n行取一行值\n",
        "country_list = df[\"Country\"].drop_duplicates().to_list()  # 去重获取国家列表\n",
        "country_list\n",
        "len(country_list)\n",
        "for country in country_list:\n",
        "    country_df = df.loc[df['Country'] == country]\n",
        "    country_df.to_csv(f\"./data/country/{country}.csv\", index_label=0)\n",
        "country_df\n"
      ]
    },
    {
      "cell_type": "code",
      "execution_count": null,
      "metadata": {},
      "outputs": [],
      "source": [
        "merged_df = pandas.read_csv(\"./data/country/Afghanistan.csv\")\n",
        "merged_df = merged_df[[\"Date_reported\"]]\n",
        "merged_df\n",
        "for country in country_list:\n",
        "    country_df = pandas.read_csv(f\"./data/country/{country}.csv\")\n",
        "    country_df=country_df[[\"Cumulative_deaths\"]]\n",
        "    country_df = country_df.rename(columns={\"Cumulative_deaths\": country})\n",
        "    merged_df=merged_df.join(country_df)\n",
        "merged_df.to_csv(\"./data/WHO-COVID-19-cleaned-data.csv\",index_label=0)\n",
        "merged_df\n"
      ]
    },
    {
      "cell_type": "code",
      "execution_count": null,
      "metadata": {},
      "outputs": [],
      "source": [
        "import re\n",
        "country_list_chinese=\"\"\n",
        "with open(\"country_list_chinese_s\") as f:\n",
        "    res=f.read()\n",
        "    res=re.sub(r'\\n', ',', res)\n",
        "with open(\"./data/country_chinese_string\",\"w+\") as f:\n",
        "    f.write(res) \n",
        "res\n"
      ]
    }
  ],
  "metadata": {
    "kernelspec": {
      "display_name": "Python 3.9.12 ('base')",
      "language": "python",
      "name": "python3"
    },
    "language_info": {
      "codemirror_mode": {
        "name": "ipython",
        "version": 3
      },
      "file_extension": ".py",
      "mimetype": "text/x-python",
      "name": "python",
      "nbconvert_exporter": "python",
      "pygments_lexer": "ipython3",
      "version": "3.9.12 (main, Apr  5 2022, 01:53:17) \n[Clang 12.0.0 ]"
    },
    "orig_nbformat": 4,
    "vscode": {
      "interpreter": {
        "hash": "40d3a090f54c6569ab1632332b64b2c03c39dcf918b08424e98f38b5ae0af88f"
      }
    }
  },
  "nbformat": 4,
  "nbformat_minor": 2
}
