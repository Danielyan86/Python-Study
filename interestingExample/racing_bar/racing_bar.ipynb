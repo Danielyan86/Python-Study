{
 "cells": [
  {
   "cell_type": "code",
   "execution_count": 2,
   "metadata": {},
   "outputs": [
    {
     "ename": "AttributeError",
     "evalue": "module 'bar_chart_race' has no attribute 'bar_chart_race'",
     "output_type": "error",
     "traceback": [
      "\u001b[0;31m---------------------------------------------------------------------------\u001b[0m",
      "\u001b[0;31mAttributeError\u001b[0m                            Traceback (most recent call last)",
      "\u001b[1;32m/Users/sheldon/github/Python-Study/interestingExample/racing_bar/racing_bar.ipynb Cell 1\u001b[0m in \u001b[0;36m<cell line: 8>\u001b[0;34m()\u001b[0m\n\u001b[1;32m      <a href='vscode-notebook-cell:/Users/sheldon/github/Python-Study/interestingExample/racing_bar/racing_bar.ipynb#W0sZmlsZQ%3D%3D?line=5'>6</a>\u001b[0m df \u001b[39m=\u001b[39m pandas\u001b[39m.\u001b[39mread_csv(\u001b[39m\"\u001b[39m\u001b[39m./data/WHO-COVID-19-cleaned-data.csv\u001b[39m\u001b[39m\"\u001b[39m,index_col\u001b[39m=\u001b[39m\u001b[39m\"\u001b[39m\u001b[39mDate_reported\u001b[39m\u001b[39m\"\u001b[39m)\u001b[39m.\u001b[39miloc[:, \u001b[39m1\u001b[39m:]\n\u001b[1;32m      <a href='vscode-notebook-cell:/Users/sheldon/github/Python-Study/interestingExample/racing_bar/racing_bar.ipynb#W0sZmlsZQ%3D%3D?line=6'>7</a>\u001b[0m \u001b[39m#设置参数\u001b[39;00m\n\u001b[0;32m----> <a href='vscode-notebook-cell:/Users/sheldon/github/Python-Study/interestingExample/racing_bar/racing_bar.ipynb#W0sZmlsZQ%3D%3D?line=7'>8</a>\u001b[0m bcr\u001b[39m.\u001b[39;49mbar_chart_race(\n\u001b[1;32m      <a href='vscode-notebook-cell:/Users/sheldon/github/Python-Study/interestingExample/racing_bar/racing_bar.ipynb#W0sZmlsZQ%3D%3D?line=8'>9</a>\u001b[0m     df\u001b[39m=\u001b[39mdf,\n\u001b[1;32m     <a href='vscode-notebook-cell:/Users/sheldon/github/Python-Study/interestingExample/racing_bar/racing_bar.ipynb#W0sZmlsZQ%3D%3D?line=9'>10</a>\u001b[0m     filename\u001b[39m=\u001b[39m\u001b[39m'\u001b[39m\u001b[39m./video/covid19_horiz_10.mp4\u001b[39m\u001b[39m'\u001b[39m,\n\u001b[1;32m     <a href='vscode-notebook-cell:/Users/sheldon/github/Python-Study/interestingExample/racing_bar/racing_bar.ipynb#W0sZmlsZQ%3D%3D?line=10'>11</a>\u001b[0m     orientation\u001b[39m=\u001b[39m\u001b[39m'\u001b[39m\u001b[39mh\u001b[39m\u001b[39m'\u001b[39m,\n\u001b[1;32m     <a href='vscode-notebook-cell:/Users/sheldon/github/Python-Study/interestingExample/racing_bar/racing_bar.ipynb#W0sZmlsZQ%3D%3D?line=11'>12</a>\u001b[0m     sort\u001b[39m=\u001b[39m\u001b[39m'\u001b[39m\u001b[39mdesc\u001b[39m\u001b[39m'\u001b[39m,\n\u001b[1;32m     <a href='vscode-notebook-cell:/Users/sheldon/github/Python-Study/interestingExample/racing_bar/racing_bar.ipynb#W0sZmlsZQ%3D%3D?line=12'>13</a>\u001b[0m     n_bars\u001b[39m=\u001b[39m\u001b[39m15\u001b[39m,\n\u001b[1;32m     <a href='vscode-notebook-cell:/Users/sheldon/github/Python-Study/interestingExample/racing_bar/racing_bar.ipynb#W0sZmlsZQ%3D%3D?line=13'>14</a>\u001b[0m     fixed_order\u001b[39m=\u001b[39m\u001b[39mFalse\u001b[39;00m,\n\u001b[1;32m     <a href='vscode-notebook-cell:/Users/sheldon/github/Python-Study/interestingExample/racing_bar/racing_bar.ipynb#W0sZmlsZQ%3D%3D?line=14'>15</a>\u001b[0m     fixed_max\u001b[39m=\u001b[39m\u001b[39mTrue\u001b[39;00m,\n\u001b[1;32m     <a href='vscode-notebook-cell:/Users/sheldon/github/Python-Study/interestingExample/racing_bar/racing_bar.ipynb#W0sZmlsZQ%3D%3D?line=15'>16</a>\u001b[0m     steps_per_period\u001b[39m=\u001b[39m\u001b[39m20\u001b[39m,\n\u001b[1;32m     <a href='vscode-notebook-cell:/Users/sheldon/github/Python-Study/interestingExample/racing_bar/racing_bar.ipynb#W0sZmlsZQ%3D%3D?line=16'>17</a>\u001b[0m     interpolate_period\u001b[39m=\u001b[39m\u001b[39mFalse\u001b[39;00m,\n\u001b[1;32m     <a href='vscode-notebook-cell:/Users/sheldon/github/Python-Study/interestingExample/racing_bar/racing_bar.ipynb#W0sZmlsZQ%3D%3D?line=17'>18</a>\u001b[0m     label_bars\u001b[39m=\u001b[39m\u001b[39mTrue\u001b[39;00m,\n\u001b[1;32m     <a href='vscode-notebook-cell:/Users/sheldon/github/Python-Study/interestingExample/racing_bar/racing_bar.ipynb#W0sZmlsZQ%3D%3D?line=18'>19</a>\u001b[0m     bar_size\u001b[39m=\u001b[39m\u001b[39m1\u001b[39m,\n\u001b[1;32m     <a href='vscode-notebook-cell:/Users/sheldon/github/Python-Study/interestingExample/racing_bar/racing_bar.ipynb#W0sZmlsZQ%3D%3D?line=19'>20</a>\u001b[0m     period_label\u001b[39m=\u001b[39m{\u001b[39m'\u001b[39m\u001b[39mx\u001b[39m\u001b[39m'\u001b[39m: \u001b[39m.99\u001b[39m, \u001b[39m'\u001b[39m\u001b[39my\u001b[39m\u001b[39m'\u001b[39m: \u001b[39m.25\u001b[39m, \u001b[39m'\u001b[39m\u001b[39mha\u001b[39m\u001b[39m'\u001b[39m: \u001b[39m'\u001b[39m\u001b[39mright\u001b[39m\u001b[39m'\u001b[39m, \u001b[39m'\u001b[39m\u001b[39mva\u001b[39m\u001b[39m'\u001b[39m: \u001b[39m'\u001b[39m\u001b[39mcenter\u001b[39m\u001b[39m'\u001b[39m},\n\u001b[1;32m     <a href='vscode-notebook-cell:/Users/sheldon/github/Python-Study/interestingExample/racing_bar/racing_bar.ipynb#W0sZmlsZQ%3D%3D?line=20'>21</a>\u001b[0m     \u001b[39m# period_fmt='%B %d, %Y',\u001b[39;00m\n\u001b[1;32m     <a href='vscode-notebook-cell:/Users/sheldon/github/Python-Study/interestingExample/racing_bar/racing_bar.ipynb#W0sZmlsZQ%3D%3D?line=21'>22</a>\u001b[0m     period_summary_func\u001b[39m=\u001b[39m\u001b[39mlambda\u001b[39;00m v, r: {\u001b[39m'\u001b[39m\u001b[39mx\u001b[39m\u001b[39m'\u001b[39m: \u001b[39m.99\u001b[39m, \u001b[39m'\u001b[39m\u001b[39my\u001b[39m\u001b[39m'\u001b[39m: \u001b[39m.18\u001b[39m,\n\u001b[1;32m     <a href='vscode-notebook-cell:/Users/sheldon/github/Python-Study/interestingExample/racing_bar/racing_bar.ipynb#W0sZmlsZQ%3D%3D?line=22'>23</a>\u001b[0m                                       \u001b[39m'\u001b[39m\u001b[39ms\u001b[39m\u001b[39m'\u001b[39m: \u001b[39mf\u001b[39m\u001b[39m'\u001b[39m\u001b[39m死亡总数: \u001b[39m\u001b[39m{\u001b[39;00mv\u001b[39m.\u001b[39mnlargest(\u001b[39m6\u001b[39m)\u001b[39m.\u001b[39msum()\u001b[39m:\u001b[39;00m\u001b[39m,.0f\u001b[39m\u001b[39m}\u001b[39;00m\u001b[39m'\u001b[39m,\n\u001b[1;32m     <a href='vscode-notebook-cell:/Users/sheldon/github/Python-Study/interestingExample/racing_bar/racing_bar.ipynb#W0sZmlsZQ%3D%3D?line=23'>24</a>\u001b[0m                                       \u001b[39m'\u001b[39m\u001b[39mha\u001b[39m\u001b[39m'\u001b[39m: \u001b[39m'\u001b[39m\u001b[39mright\u001b[39m\u001b[39m'\u001b[39m, \u001b[39m'\u001b[39m\u001b[39msize\u001b[39m\u001b[39m'\u001b[39m: \u001b[39m8\u001b[39m},\n\u001b[1;32m     <a href='vscode-notebook-cell:/Users/sheldon/github/Python-Study/interestingExample/racing_bar/racing_bar.ipynb#W0sZmlsZQ%3D%3D?line=24'>25</a>\u001b[0m     perpendicular_bar_func\u001b[39m=\u001b[39m\u001b[39m'\u001b[39m\u001b[39mmedian\u001b[39m\u001b[39m'\u001b[39m,\n\u001b[1;32m     <a href='vscode-notebook-cell:/Users/sheldon/github/Python-Study/interestingExample/racing_bar/racing_bar.ipynb#W0sZmlsZQ%3D%3D?line=25'>26</a>\u001b[0m     period_length\u001b[39m=\u001b[39m\u001b[39m500\u001b[39m,\n\u001b[1;32m     <a href='vscode-notebook-cell:/Users/sheldon/github/Python-Study/interestingExample/racing_bar/racing_bar.ipynb#W0sZmlsZQ%3D%3D?line=26'>27</a>\u001b[0m     figsize\u001b[39m=\u001b[39m(\u001b[39m5\u001b[39m, \u001b[39m3\u001b[39m),\n\u001b[1;32m     <a href='vscode-notebook-cell:/Users/sheldon/github/Python-Study/interestingExample/racing_bar/racing_bar.ipynb#W0sZmlsZQ%3D%3D?line=27'>28</a>\u001b[0m     dpi\u001b[39m=\u001b[39m\u001b[39m144\u001b[39m,\n\u001b[1;32m     <a href='vscode-notebook-cell:/Users/sheldon/github/Python-Study/interestingExample/racing_bar/racing_bar.ipynb#W0sZmlsZQ%3D%3D?line=28'>29</a>\u001b[0m     \u001b[39m# cmap='dark12_r',\u001b[39;00m\n\u001b[1;32m     <a href='vscode-notebook-cell:/Users/sheldon/github/Python-Study/interestingExample/racing_bar/racing_bar.ipynb#W0sZmlsZQ%3D%3D?line=29'>30</a>\u001b[0m     title\u001b[39m=\u001b[39m\u001b[39m'\u001b[39m\u001b[39m各国新冠累计死亡人数\u001b[39m\u001b[39m'\u001b[39m,\n\u001b[1;32m     <a href='vscode-notebook-cell:/Users/sheldon/github/Python-Study/interestingExample/racing_bar/racing_bar.ipynb#W0sZmlsZQ%3D%3D?line=30'>31</a>\u001b[0m     title_size\u001b[39m=\u001b[39m\u001b[39m'\u001b[39m\u001b[39m'\u001b[39m,\n\u001b[1;32m     <a href='vscode-notebook-cell:/Users/sheldon/github/Python-Study/interestingExample/racing_bar/racing_bar.ipynb#W0sZmlsZQ%3D%3D?line=31'>32</a>\u001b[0m     bar_label_size\u001b[39m=\u001b[39m\u001b[39m7\u001b[39m,\n\u001b[1;32m     <a href='vscode-notebook-cell:/Users/sheldon/github/Python-Study/interestingExample/racing_bar/racing_bar.ipynb#W0sZmlsZQ%3D%3D?line=32'>33</a>\u001b[0m     tick_label_size\u001b[39m=\u001b[39m\u001b[39m7\u001b[39m,\n\u001b[1;32m     <a href='vscode-notebook-cell:/Users/sheldon/github/Python-Study/interestingExample/racing_bar/racing_bar.ipynb#W0sZmlsZQ%3D%3D?line=33'>34</a>\u001b[0m     shared_fontdict\u001b[39m=\u001b[39m{\u001b[39m'\u001b[39m\u001b[39mfamily\u001b[39m\u001b[39m'\u001b[39m : \u001b[39m'\u001b[39m\u001b[39mArial Unicode MS\u001b[39m\u001b[39m'\u001b[39m, \u001b[39m'\u001b[39m\u001b[39mcolor\u001b[39m\u001b[39m'\u001b[39m : \u001b[39m'\u001b[39m\u001b[39m.1\u001b[39m\u001b[39m'\u001b[39m},\n\u001b[1;32m     <a href='vscode-notebook-cell:/Users/sheldon/github/Python-Study/interestingExample/racing_bar/racing_bar.ipynb#W0sZmlsZQ%3D%3D?line=34'>35</a>\u001b[0m     \u001b[39m# shared_fontdict={'color' : '.1'},\u001b[39;00m\n\u001b[1;32m     <a href='vscode-notebook-cell:/Users/sheldon/github/Python-Study/interestingExample/racing_bar/racing_bar.ipynb#W0sZmlsZQ%3D%3D?line=35'>36</a>\u001b[0m     scale\u001b[39m=\u001b[39m\u001b[39m'\u001b[39m\u001b[39mlinear\u001b[39m\u001b[39m'\u001b[39m,\n\u001b[1;32m     <a href='vscode-notebook-cell:/Users/sheldon/github/Python-Study/interestingExample/racing_bar/racing_bar.ipynb#W0sZmlsZQ%3D%3D?line=36'>37</a>\u001b[0m     writer\u001b[39m=\u001b[39m\u001b[39mNone\u001b[39;00m,\n\u001b[1;32m     <a href='vscode-notebook-cell:/Users/sheldon/github/Python-Study/interestingExample/racing_bar/racing_bar.ipynb#W0sZmlsZQ%3D%3D?line=37'>38</a>\u001b[0m     fig\u001b[39m=\u001b[39m\u001b[39mNone\u001b[39;00m,\n\u001b[1;32m     <a href='vscode-notebook-cell:/Users/sheldon/github/Python-Study/interestingExample/racing_bar/racing_bar.ipynb#W0sZmlsZQ%3D%3D?line=38'>39</a>\u001b[0m     bar_kwargs\u001b[39m=\u001b[39m{\u001b[39m'\u001b[39m\u001b[39malpha\u001b[39m\u001b[39m'\u001b[39m: \u001b[39m.7\u001b[39m},\n\u001b[1;32m     <a href='vscode-notebook-cell:/Users/sheldon/github/Python-Study/interestingExample/racing_bar/racing_bar.ipynb#W0sZmlsZQ%3D%3D?line=39'>40</a>\u001b[0m     filter_column_colors\u001b[39m=\u001b[39m\u001b[39mTrue\u001b[39;00m)\n",
      "\u001b[0;31mAttributeError\u001b[0m: module 'bar_chart_race' has no attribute 'bar_chart_race'"
     ]
    }
   ],
   "source": [
    "\n",
    "import bar_chart_race as bcr\n",
    "import pandas\n",
    "\n",
    "# bcr.load_dataset()\n",
    "# 读取数据\n",
    "df = pandas.read_csv(\"./data/WHO-COVID-19-cleaned-data.csv\",\n",
    "                     index_col=\"Date_reported\").iloc[:, 1:]\n",
    "# 设置参数\n",
    "bcr.bar_chart_race(\n",
    "    df=df,\n",
    "    filename='./video/covid19_horiz_10.mp4',\n",
    "    orientation='h',\n",
    "    sort='desc',\n",
    "    n_bars=15,\n",
    "    fixed_order=False,\n",
    "    fixed_max=True,\n",
    "    steps_per_period=20,\n",
    "    interpolate_period=False,\n",
    "    label_bars=True,\n",
    "    bar_size=1,\n",
    "    period_label={'x': .99, 'y': .25, 'ha': 'right', 'va': 'center'},\n",
    "    # period_fmt='%B %d, %Y',\n",
    "    period_summary_func=lambda v, r: {'x': .99, 'y': .18,\n",
    "                                      's': f'死亡总数: {v.nlargest(6).sum():,.0f}',\n",
    "                                      'ha': 'right', 'size': 8},\n",
    "    perpendicular_bar_func='median',\n",
    "    period_length=500,\n",
    "    figsize=(5, 3),\n",
    "    dpi=144,\n",
    "    # cmap='dark12_r',\n",
    "    title='各国新冠累计死亡人数',\n",
    "    title_size='',\n",
    "    bar_label_size=7,\n",
    "    tick_label_size=7,\n",
    "    shared_fontdict={'family': 'Arial Unicode MS', 'color': '.1'},\n",
    "    # shared_fontdict={'color' : '.1'},\n",
    "    scale='linear',\n",
    "    writer=None,\n",
    "    fig=None,\n",
    "    bar_kwargs={'alpha': .7},\n",
    "    filter_column_colors=True)\n"
   ]
  }
 ],
 "metadata": {
  "kernelspec": {
   "display_name": "Python 3 (ipykernel)",
   "language": "python",
   "name": "python3"
  },
  "language_info": {
   "codemirror_mode": {
    "name": "ipython",
    "version": 3
   },
   "file_extension": ".py",
   "mimetype": "text/x-python",
   "name": "python",
   "nbconvert_exporter": "python",
   "pygments_lexer": "ipython3",
   "version": "3.9.12"
  },
  "vscode": {
   "interpreter": {
    "hash": "40d3a090f54c6569ab1632332b64b2c03c39dcf918b08424e98f38b5ae0af88f"
   }
  }
 },
 "nbformat": 4,
 "nbformat_minor": 2
}
