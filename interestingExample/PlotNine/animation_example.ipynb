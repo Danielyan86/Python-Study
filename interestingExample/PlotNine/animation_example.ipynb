{
  "cells": [
    {
      "cell_type": "code",
      "execution_count": null,
      "metadata": {},
      "outputs": [],
      "source": [
        "import pandas as pd\n",
        "import numpy as np\n",
        "from plotnine import *\n",
        "from plotnine.animation import PlotnineAnimation\n",
        "\n",
        "# for animation in the notebook\n",
        "from matplotlib import rc\n",
        "rc('animation', html='html5')"
      ]
    },
    {
      "cell_type": "code",
      "execution_count": null,
      "metadata": {},
      "outputs": [],
      "source": [
        "# Parameters used to control the spiral\n",
        "n = 100\n",
        "tightness = 1.3\n",
        "kmin = 1\n",
        "kmax = 25\n",
        "num_frames = 25\n",
        "theta = np.linspace(-np.pi, np.pi, n)\n",
        "\n",
        "def plot(k):\n",
        "    # For every plot we change the theta\n",
        "    _theta = theta*k\n",
        "\n",
        "    # Polar Equation of each spiral\n",
        "    r = tightness*_theta\n",
        "\n",
        "    df = pd.DataFrame({\n",
        "        'theta': _theta,\n",
        "        'r': r,\n",
        "        'x': r*np.sin(_theta),\n",
        "        'y': r*np.cos(_theta)\n",
        "    })\n",
        "\n",
        "    p = (ggplot(df)\n",
        "         + geom_path(aes('x', 'y', color='theta'), size=1)\n",
        "         + lims(\n",
        "             # All the plots have scales with the same limits\n",
        "             x=(-130, 130),\n",
        "             y=(-130, 130),\n",
        "             color=(-kmax*np.pi, kmax*np.pi)\n",
        "         )\n",
        "         + theme_void()\n",
        "         + theme(\n",
        "             aspect_ratio=1,\n",
        "             # Make room on the right for the legend\n",
        "             subplots_adjust={'right': 0.85}\n",
        "         )\n",
        "    )\n",
        "    return p\n",
        "\n",
        "# It is better to use a generator instead of a list\n",
        "plots = (plot(k) for k in np.linspace(kmin, kmax, num_frames))\n",
        "ani = PlotnineAnimation(plots, interval=100, repeat_delay=500)\n",
        "# ani.save('/tmp/animation.mp4')\n",
        "ani"
      ]
    },
    {
      "cell_type": "code",
      "execution_count": 7,
      "metadata": {},
      "outputs": [],
      "source": [
        "import numpy as np\n",
        "import matplotlib.pyplot as plt\n",
        "import matplotlib.animation as manimation"
      ]
    },
    {
      "cell_type": "code",
      "execution_count": 8,
      "metadata": {},
      "outputs": [
        {
          "data": {
            "image/png": "[encoded data removed]",
            "text/plain": [
              "<Figure size 432x288 with 1 Axes>"
            ]
          },
          "metadata": {
            "needs_background": "light"
          },
          "output_type": "display_data"
        }
      ],
      "source": [
        "n = 1000\n",
        "x = np.linspace(0, 6*np.pi, n)\n",
        "y = np.sin(x)\n",
        "\n",
        "# Define the meta data for the movie\n",
        "FFMpegWriter = manimation.writers['ffmpeg']\n",
        "metadata = dict(title='Movie Test', artist='Matplotlib',\n",
        "                comment='a red circle following a blue sine wave')\n",
        "writer = FFMpegWriter(fps=15, metadata=metadata)\n",
        "\n",
        "# Initialize the movie\n",
        "fig = plt.figure()\n",
        "\n",
        "# plot the sine wave line\n",
        "sine_line, = plt.plot(x, y, 'b')\n",
        "red_circle, = plt.plot([], [], 'ro', markersize = 10)\n",
        "plt.xlabel('x')\n",
        "plt.ylabel('sin(x)')\n",
        "\n",
        "# Update the frames for the movie\n",
        "with writer.saving(fig, \"writer_test.mp4\", 100):\n",
        "    for i in range(n):\n",
        "        x0 = x[i]\n",
        "        y0 = y[i]\n",
        "        red_circle.set_data(x0, y0)\n",
        "        writer.grab_frame()"
      ]
    }
  ],
  "metadata": {
    "kernelspec": {
      "display_name": "base",
      "language": "python",
      "name": "python3"
    },
    "language_info": {
      "codemirror_mode": {
        "name": "ipython",
        "version": 3
      },
      "file_extension": ".py",
      "mimetype": "text/x-python",
      "name": "python",
      "nbconvert_exporter": "python",
      "pygments_lexer": "ipython3",
      "version": "3.9.12"
    },
    "orig_nbformat": 4,
    "vscode": {
      "interpreter": {
        "hash": "40d3a090f54c6569ab1632332b64b2c03c39dcf918b08424e98f38b5ae0af88f"
      }
    }
  },
  "nbformat": 4,
  "nbformat_minor": 2
}
