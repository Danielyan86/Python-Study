{
 "cells": [
  {
   "cell_type": "code",
   "execution_count": null,
   "metadata": {},
   "outputs": [],
   "source": [
    "\n",
    "import bar_chart_race as bcr\n",
    "import pandas\n",
    "\n",
    "# bcr.load_dataset()\n",
    "#读取数据\n",
    "df = pandas.read_csv(\"./data/santi.csv\",index_col=\"Date_reported\").iloc[:, 1:]\n",
    "#设置参数\n",
    "bcr.bar_chart_race(\n",
    "    df=df,\n",
    "    filename='./video/covid19_horiz_10.mp4',\n",
    "    orientation='h',\n",
    "    sort='desc',\n",
    "    n_bars=15,\n",
    "    fixed_order=False,\n",
    "    fixed_max=True,\n",
    "    steps_per_period=20,\n",
    "    interpolate_period=False,\n",
    "    label_bars=True,\n",
    "    bar_size=1,\n",
    "    period_label={'x': .99, 'y': .25, 'ha': 'right', 'va': 'center'},\n",
    "    # period_fmt='%B %d, %Y',\n",
    "    period_summary_func=lambda v, r: {'x': .99, 'y': .18,\n",
    "                                      's': f'总数: {v.nlargest(6).sum():,.0f}',\n",
    "                                      'ha': 'right', 'size': 8},\n",
    "    perpendicular_bar_func='median',\n",
    "    period_length=500,\n",
    "    figsize=(5, 3),\n",
    "    dpi=144,\n",
    "    # cmap='dark12_r',\n",
    "    title='各国新冠累计死亡人数',\n",
    "    title_size='',\n",
    "    bar_label_size=7,\n",
    "    tick_label_size=7,\n",
    "    shared_fontdict={'family' : 'Arial Unicode MS', 'color' : '.1'},\n",
    "    # shared_fontdict={'color' : '.1'},\n",
    "    scale='linear',\n",
    "    writer=None,\n",
    "    fig=None,\n",
    "    bar_kwargs={'alpha': .7},\n",
    "    filter_column_colors=True)  "
   ]
  }
 ],
 "metadata": {
  "kernelspec": {
   "display_name": "Python 3 (ipykernel)",
   "language": "python",
   "name": "python3"
  },
  "language_info": {
   "codemirror_mode": {
    "name": "ipython",
    "version": 3
   },
   "file_extension": ".py",
   "mimetype": "text/x-python",
   "name": "python",
   "nbconvert_exporter": "python",
   "pygments_lexer": "ipython3",
   "version": "3.9.12 (main, Apr  5 2022, 01:53:17) \n[Clang 12.0.0 ]"
  },
  "vscode": {
   "interpreter": {
    "hash": "40d3a090f54c6569ab1632332b64b2c03c39dcf918b08424e98f38b5ae0af88f"
   }
  }
 },
 "nbformat": 4,
 "nbformat_minor": 2
}
