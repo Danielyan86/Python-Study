{
 "cells": [
  {
   "cell_type": "code",
   "execution_count": 4,
   "metadata": {},
   "outputs": [],
   "source": [
    "import pandas as pd\n",
    "# pd.options.display.max_columns=None\n",
    "# pd.options.display.max_rows=None\n",
    "\n",
    "with open(\"name_list.txt\") as f:\n",
    "    res = f.read()\n",
    "names_list = res.split()\n",
    "names_dict = {i: 0 for i in names_list}\n",
    "names_dict\n",
    "# print(names_dict.values())\n",
    "\n",
    "# pd.DataFrame(columns=names_dict.keys(),data=names_dict.values())\n",
    "# pd\n",
    "dict_list = []\n",
    "with open(\"./data/santi.txt\") as f:\n",
    "    for line in f:\n",
    "        if \"===\" in line:\n",
    "            chapter_name=line.split(\"===\")\n",
    "            # print(chapter_name[1])\n",
    "            names_dict[\"index\"]=chapter_name[1]\n",
    "            dict_list.append(names_dict.copy())\n",
    "            # print(dict_list)\n",
    "            # write the dictionary to pd as one line\n",
    "        for name in names_dict:\n",
    "            if name in line:\n",
    "                names_dict[name] = names_dict[name] + 1\n",
    "# for line in dict_list:\n",
    "#     print(line)\n",
    "df=pd.DataFrame(dict_list)\n",
    "df.to_csv(\"./data/santi.csv\")\n",
    "\n",
    "\n",
    "# names_dict = sorted(names_dict.items(), key=lambda x: x[1], reverse=True)\n",
    "# names_dict\n"
   ]
  }
 ],
 "metadata": {
  "kernelspec": {
   "display_name": "base",
   "language": "python",
   "name": "python3"
  },
  "language_info": {
   "codemirror_mode": {
    "name": "ipython",
    "version": 3
   },
   "file_extension": ".py",
   "mimetype": "text/x-python",
   "name": "python",
   "nbconvert_exporter": "python",
   "pygments_lexer": "ipython3",
   "version": "3.9.12"
  },
  "orig_nbformat": 4,
  "vscode": {
   "interpreter": {
    "hash": "40d3a090f54c6569ab1632332b64b2c03c39dcf918b08424e98f38b5ae0af88f"
   }
  }
 },
 "nbformat": 4,
 "nbformat_minor": 2
}
